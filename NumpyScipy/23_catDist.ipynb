{
 "cells": [
  {
   "cell_type": "code",
   "execution_count": 92,
   "metadata": {},
   "outputs": [],
   "source": [
    "import scipy as sp\n",
    "import numpy as np\n",
    "import matplotlib.pyplot as plt\n",
    "import seaborn as sns\n",
    "import pandas as pd"
   ]
  },
  {
   "cell_type": "code",
   "execution_count": 4,
   "metadata": {},
   "outputs": [],
   "source": [
    "# 결과값이 여러 가지 일 때\n",
    "# 1 부터 K 까지 정수 중 하나가 나오는 확률 변수의 분포\n",
    " \n",
    "# 카테고리 분포에서는 벡터 확률 변수로 사용함 (다차원 벡터)    \n",
    "    \n",
    "# ex) 주사위 : x = {1,2,3,4,5,6} ; K = 6 인 카테고리 분포\n",
    "# 이 때, if x = 1, x = (1,0,0,0,0,0)\n",
    "#           x = 2, x = (0,1,0,0,0,0)\n",
    "#                ...\n",
    "# 이런 인코딩 방식을 One-Hot-Encoding 방법 이라고 함\n",
    "\n",
    "# 각 x 가 등장(1), 안 등장(0) ; 베르누이 시행처럼 확률을 가짐 (theta(x))\n",
    "# sum of all theta = 1"
   ]
  },
  {
   "cell_type": "code",
   "execution_count": null,
   "metadata": {},
   "outputs": [],
   "source": [
    "# 별도의 카테고리 분포 클래스 제공 x\n",
    "# 다항분포를 위한 multinomial 에서 시행횟수를 1로 설정한 것 => 카테고리 분포"
   ]
  },
  {
   "cell_type": "code",
   "execution_count": 16,
   "metadata": {},
   "outputs": [
    {
     "data": {
      "text/plain": [
       "array([0.16666667, 0.16666667, 0.16666667, 0.16666667, 0.16666667,\n",
       "       0.16666667])"
      ]
     },
     "execution_count": 16,
     "metadata": {},
     "output_type": "execute_result"
    }
   ],
   "source": [
    "p = np.array([1/6]*6)\n",
    "p"
   ]
  },
  {
   "cell_type": "code",
   "execution_count": 56,
   "metadata": {},
   "outputs": [
    {
     "data": {
      "text/plain": [
       "array([1, 2, 3, 4, 5, 6])"
      ]
     },
     "execution_count": 56,
     "metadata": {},
     "output_type": "execute_result"
    }
   ],
   "source": [
    "rv = sp.stats.multinomial(1, p)\n",
    "xx = np.arange(1,7)\n",
    "xx"
   ]
  },
  {
   "cell_type": "code",
   "execution_count": 57,
   "metadata": {},
   "outputs": [
    {
     "data": {
      "text/html": [
       "<div>\n",
       "<style scoped>\n",
       "    .dataframe tbody tr th:only-of-type {\n",
       "        vertical-align: middle;\n",
       "    }\n",
       "\n",
       "    .dataframe tbody tr th {\n",
       "        vertical-align: top;\n",
       "    }\n",
       "\n",
       "    .dataframe thead th {\n",
       "        text-align: right;\n",
       "    }\n",
       "</style>\n",
       "<table border=\"1\" class=\"dataframe\">\n",
       "  <thead>\n",
       "    <tr style=\"text-align: right;\">\n",
       "      <th></th>\n",
       "      <th>1</th>\n",
       "      <th>2</th>\n",
       "      <th>3</th>\n",
       "      <th>4</th>\n",
       "      <th>5</th>\n",
       "      <th>6</th>\n",
       "    </tr>\n",
       "  </thead>\n",
       "  <tbody>\n",
       "    <tr>\n",
       "      <th>0</th>\n",
       "      <td>1</td>\n",
       "      <td>0</td>\n",
       "      <td>0</td>\n",
       "      <td>0</td>\n",
       "      <td>0</td>\n",
       "      <td>0</td>\n",
       "    </tr>\n",
       "    <tr>\n",
       "      <th>1</th>\n",
       "      <td>0</td>\n",
       "      <td>1</td>\n",
       "      <td>0</td>\n",
       "      <td>0</td>\n",
       "      <td>0</td>\n",
       "      <td>0</td>\n",
       "    </tr>\n",
       "    <tr>\n",
       "      <th>2</th>\n",
       "      <td>0</td>\n",
       "      <td>0</td>\n",
       "      <td>1</td>\n",
       "      <td>0</td>\n",
       "      <td>0</td>\n",
       "      <td>0</td>\n",
       "    </tr>\n",
       "    <tr>\n",
       "      <th>3</th>\n",
       "      <td>0</td>\n",
       "      <td>0</td>\n",
       "      <td>0</td>\n",
       "      <td>1</td>\n",
       "      <td>0</td>\n",
       "      <td>0</td>\n",
       "    </tr>\n",
       "    <tr>\n",
       "      <th>4</th>\n",
       "      <td>0</td>\n",
       "      <td>0</td>\n",
       "      <td>0</td>\n",
       "      <td>0</td>\n",
       "      <td>1</td>\n",
       "      <td>0</td>\n",
       "    </tr>\n",
       "    <tr>\n",
       "      <th>5</th>\n",
       "      <td>0</td>\n",
       "      <td>0</td>\n",
       "      <td>0</td>\n",
       "      <td>0</td>\n",
       "      <td>0</td>\n",
       "      <td>1</td>\n",
       "    </tr>\n",
       "  </tbody>\n",
       "</table>\n",
       "</div>"
      ],
      "text/plain": [
       "   1  2  3  4  5  6\n",
       "0  1  0  0  0  0  0\n",
       "1  0  1  0  0  0  0\n",
       "2  0  0  1  0  0  0\n",
       "3  0  0  0  1  0  0\n",
       "4  0  0  0  0  1  0\n",
       "5  0  0  0  0  0  1"
      ]
     },
     "execution_count": 57,
     "metadata": {},
     "output_type": "execute_result"
    }
   ],
   "source": [
    "# get_dummies => One-Hot-Encoding 사용할 때 이용\n",
    "\n",
    "xx_ohe = pd.get_dummies(xx)\n",
    "xx_ohe"
   ]
  },
  {
   "cell_type": "code",
   "execution_count": 58,
   "metadata": {},
   "outputs": [
    {
     "data": {
      "image/png": "[encoded data removed]",
      "text/plain": [
       "<Figure size 432x288 with 1 Axes>"
      ]
     },
     "metadata": {
      "needs_background": "light"
     },
     "output_type": "display_data"
    }
   ],
   "source": [
    "plt.bar(xx,xx_ohe.sum(axis=0)/len(xx))\n",
    "plt.ylabel(\"P(x)\")\n",
    "plt.title(\"Cat Dist pmf\")\n",
    "plt.show()"
   ]
  },
  {
   "cell_type": "code",
   "execution_count": 52,
   "metadata": {},
   "outputs": [
    {
     "data": {
      "text/plain": [
       "array([[0, 0, 0, 0, 0, 1],\n",
       "       [0, 0, 0, 0, 1, 0],\n",
       "       [0, 0, 0, 1, 0, 0],\n",
       "       [0, 0, 0, 0, 0, 1],\n",
       "       [0, 1, 0, 0, 0, 0],\n",
       "       [1, 0, 0, 0, 0, 0]])"
      ]
     },
     "execution_count": 52,
     "metadata": {},
     "output_type": "execute_result"
    }
   ],
   "source": [
    "# simulate\n",
    "\n",
    "np.random.seed(1)\n",
    "\n",
    "X = rv.rvs(1000)    # 표본 수 : 1000\n",
    "X[:6]    # 첫 여섯 줄만 출력"
   ]
  },
  {
   "cell_type": "code",
   "execution_count": 53,
   "metadata": {},
   "outputs": [
    {
     "name": "stdout",
     "output_type": "stream",
     "text": [
      "[0.159 0.178 0.168 0.172 0.151 0.172]\n"
     ]
    },
    {
     "data": {
      "image/png": "[encoded data removed]",
      "text/plain": [
       "<Figure size 432x288 with 1 Axes>"
      ]
     },
     "metadata": {
      "needs_background": "light"
     },
     "output_type": "display_data"
    }
   ],
   "source": [
    "y = X.sum(axis=0)/float(len(X))   # 열 마다(카테고리 마다) 합을 총 행 수로 나눠줌\n",
    "print(y)\n",
    "\n",
    "plt.bar(np.arange(1,7),y)\n",
    "\n",
    "plt.title(\"simulation of cat dist\")\n",
    "plt.show()"
   ]
  },
  {
   "cell_type": "code",
   "execution_count": 61,
   "metadata": {},
   "outputs": [
    {
     "name": "stdout",
     "output_type": "stream",
     "text": [
      "1  theory        0.166667\n",
      "   simulation    0.159000\n",
      "2  theory        0.166667\n",
      "   simulation    0.178000\n",
      "3  theory        0.166667\n",
      "   simulation    0.168000\n",
      "4  theory        0.166667\n",
      "   simulation    0.172000\n",
      "5  theory        0.166667\n",
      "   simulation    0.151000\n",
      "6  theory        0.166667\n",
      "   simulation    0.172000\n",
      "dtype: float64\n"
     ]
    }
   ],
   "source": [
    "df = pd.DataFrame({'theory':xx_ohe.sum(axis=0)/len(xx), 'simulation':y}, index=np.arange(1,7)).stack()\n",
    "print(df)"
   ]
  },
  {
   "cell_type": "code",
   "execution_count": 85,
   "metadata": {},
   "outputs": [
    {
     "name": "stdout",
     "output_type": "stream",
     "text": [
      "    value        type         %\n",
      "0       1      theory  0.166667\n",
      "1       1  simulation  0.000000\n",
      "2       2      theory  0.166667\n",
      "3       2  simulation  0.000000\n",
      "4       3      theory  0.166667\n",
      "5       3  simulation  0.240000\n",
      "6       4      theory  0.166667\n",
      "7       4  simulation  0.100000\n",
      "8       5      theory  0.166667\n",
      "9       5  simulation  0.240000\n",
      "10      6      theory  0.166667\n",
      "11      6  simulation  0.420000\n"
     ]
    }
   ],
   "source": [
    "df = df.reset_index()\n",
    "df.columns = ['value', 'type', '%']\n",
    "df.pivot('value', 'type','%')\n",
    "print(df)"
   ]
  },
  {
   "cell_type": "code",
   "execution_count": 66,
   "metadata": {},
   "outputs": [
    {
     "data": {
      "image/png": "[encoded data removed]",
      "text/plain": [
       "<Figure size 432x288 with 1 Axes>"
      ]
     },
     "metadata": {},
     "output_type": "display_data"
    }
   ],
   "source": [
    "sns.barplot(x='value',y='%',hue='type',data=df)\n",
    "sns.set()\n",
    "sns.set_style('darkgrid')\n",
    "plt.show()"
   ]
  },
  {
   "cell_type": "code",
   "execution_count": 67,
   "metadata": {},
   "outputs": [
    {
     "name": "stdout",
     "output_type": "stream",
     "text": [
      "2.220446049250313e-16\n"
     ]
    }
   ],
   "source": [
    "# 확률을 다르게 부여\n",
    "\n",
    "eps = np.finfo(np.float).eps # 0 에 가까운 아주 작은 수\n",
    "print(eps)\n",
    "p = np.array([eps,eps,0.2,0.1,0.3,0.4])"
   ]
  },
  {
   "cell_type": "code",
   "execution_count": 117,
   "metadata": {},
   "outputs": [
    {
     "name": "stdout",
     "output_type": "stream",
     "text": [
      "    value        type         %\n",
      "0       1      theory  0.166667\n",
      "1       1  simulation  0.000000\n",
      "2       2      theory  0.166667\n",
      "3       2  simulation  0.000000\n",
      "4       3      theory  0.166667\n",
      "5       3  simulation  0.240000\n",
      "6       4      theory  0.166667\n",
      "7       4  simulation  0.100000\n",
      "8       5      theory  0.166667\n",
      "9       5  simulation  0.240000\n",
      "10      6      theory  0.166667\n",
      "11      6  simulation  0.420000\n"
     ]
    },
    {
     "data": {
      "image/png": "[encoded data removed]",
      "text/plain": [
       "<Figure size 432x288 with 1 Axes>"
      ]
     },
     "metadata": {},
     "output_type": "display_data"
    }
   ],
   "source": [
    "rv = sp.stats.multinomial(1,p)\n",
    "X = rv.rvs(100,random_state=1)\n",
    "y = X.sum(axis=0)/float(len(X)) # 행들을 더해서 행 수로 나눔\n",
    "\n",
    "df = pd.DataFrame({'theory':xx_ohe.sum(axis=0)/len(xx),'simulation':y},index=np.arange(1,7)).stack()\n",
    "df = df.reset_index()\n",
    "df.columns = ['value', 'type', '%']\n",
    "df.pivot('value', 'type','%')\n",
    "print(df)\n",
    "\n",
    "sns.barplot(x='value',y='%',hue='type',data=df)\n",
    "plt.show()\n",
    "#plt.show()"
   ]
  }
 ],
 "metadata": {
  "kernelspec": {
   "display_name": "Python 3",
   "language": "python",
   "name": "python3"
  },
  "language_info": {
   "codemirror_mode": {
    "name": "ipython",
    "version": 3
   },
   "file_extension": ".py",
   "mimetype": "text/x-python",
   "name": "python",
   "nbconvert_exporter": "python",
   "pygments_lexer": "ipython3",
   "version": "3.7.1"
  }
 },
 "nbformat": 4,
 "nbformat_minor": 2
}
