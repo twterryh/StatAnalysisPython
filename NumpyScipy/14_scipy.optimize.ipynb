{
 "cells": [
  {
   "cell_type": "code",
   "execution_count": 3,
   "metadata": {},
   "outputs": [],
   "source": [
    "import numpy as np\n",
    "import matplotlib.pylab as plt\n",
    "import scipy as sp"
   ]
  },
  {
   "cell_type": "code",
   "execution_count": 4,
   "metadata": {},
   "outputs": [],
   "source": [
    "# scipy 의 서브 패키지 optimize 의 메소드 minimize\n",
    "# minimize uses BFGS algorithm\n",
    "# minimize 의 인수는 (초기값, 목적함수) 를 이용\n",
    "\n",
    "# minimize 는 최적화 결과를 OptimizeResult class 로 반환함\n",
    "\n",
    "# OptimizeResult\n",
    "# x : solution of optimization\n",
    "# success : True (if optimization succeeds)\n",
    "# status : 0 (when optimization process is concluded)\n",
    "# message : 이런저런 메세지\n",
    "# fun : f(x) value at current x\n",
    "# jac (jacobian) : javobian (gradient) vector value at current x\n",
    "# hess : hessian matrix value at current x\n",
    "# nfev : no. of objective ftn calls\n",
    "# njev : no. of jacovian calculation trials\n",
    "# nhev : no. of hessian calculation trials\n",
    "# nit : no. of x 이동"
   ]
  },
  {
   "cell_type": "code",
   "execution_count": 5,
   "metadata": {},
   "outputs": [],
   "source": [
    "from scipy import optimize"
   ]
  },
  {
   "cell_type": "code",
   "execution_count": 6,
   "metadata": {},
   "outputs": [],
   "source": [
    "# obj ftn \n",
    "\n",
    "def f1(x) :\n",
    "    return (x-2)**2 + 2"
   ]
  },
  {
   "cell_type": "code",
   "execution_count": 7,
   "metadata": {},
   "outputs": [],
   "source": [
    "# 초기값\n",
    "\n",
    "x0 = 0"
   ]
  },
  {
   "cell_type": "code",
   "execution_count": 8,
   "metadata": {},
   "outputs": [
    {
     "name": "stdout",
     "output_type": "stream",
     "text": [
      "      fun: 2.0\n",
      " hess_inv: array([[0.5]])\n",
      "      jac: array([0.])\n",
      "  message: 'Optimization terminated successfully.'\n",
      "     nfev: 9\n",
      "      nit: 2\n",
      "     njev: 3\n",
      "   status: 0\n",
      "  success: True\n",
      "        x: array([1.99999999])\n"
     ]
    }
   ],
   "source": [
    "result = sp.optimize.minimize(f1,x0)\n",
    "print(result)"
   ]
  },
  {
   "cell_type": "code",
   "execution_count": null,
   "metadata": {},
   "outputs": [],
   "source": [
    "# nfev 왜 9 반이나?\n",
    "# jac (gradient vector value) = 0\n",
    "# gradient vector 계산에 필요한 미분을 수행하기 위해 목적함수를 저 만큼 호출한 것"
   ]
  }
 ],
 "metadata": {
  "kernelspec": {
   "display_name": "Python 3",
   "language": "python",
   "name": "python3"
  },
  "language_info": {
   "codemirror_mode": {
    "name": "ipython",
    "version": 3
   },
   "file_extension": ".py",
   "mimetype": "text/x-python",
   "name": "python",
   "nbconvert_exporter": "python",
   "pygments_lexer": "ipython3",
   "version": "3.7.1"
  }
 },
 "nbformat": 4,
 "nbformat_minor": 2
}
