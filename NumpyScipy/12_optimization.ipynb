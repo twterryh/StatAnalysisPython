{
 "cells": [
  {
   "cell_type": "code",
   "execution_count": 1,
   "metadata": {},
   "outputs": [],
   "source": [
    "# optimize : minimize/maximize objective ftn\n",
    "# optimization in linear reg : minimize squared error\n",
    "\n",
    "# when, y-hat = weight.T * x\n",
    "# find x-star that minimizes f(weight) = error.T * error"
   ]
  },
  {
   "cell_type": "code",
   "execution_count": 6,
   "metadata": {},
   "outputs": [],
   "source": [
    "import numpy as np\n",
    "import matplotlib.pylab as plt"
   ]
  },
  {
   "cell_type": "code",
   "execution_count": 7,
   "metadata": {},
   "outputs": [],
   "source": [
    "# set objective ftn (목적함수/cost ftn(비용함수)) f(x)\n",
    "\n",
    "def f(x):\n",
    "    return (x-2)**2 + 2"
   ]
  },
  {
   "cell_type": "code",
   "execution_count": 13,
   "metadata": {},
   "outputs": [
    {
     "data": {
      "text/plain": [
       "array([-1.        , -0.92929293, -0.85858586, -0.78787879, -0.71717172,\n",
       "       -0.64646465, -0.57575758, -0.50505051, -0.43434343, -0.36363636,\n",
       "       -0.29292929, -0.22222222, -0.15151515, -0.08080808, -0.01010101,\n",
       "        0.06060606,  0.13131313,  0.2020202 ,  0.27272727,  0.34343434,\n",
       "        0.41414141,  0.48484848,  0.55555556,  0.62626263,  0.6969697 ,\n",
       "        0.76767677,  0.83838384,  0.90909091,  0.97979798,  1.05050505,\n",
       "        1.12121212,  1.19191919,  1.26262626,  1.33333333,  1.4040404 ,\n",
       "        1.47474747,  1.54545455,  1.61616162,  1.68686869,  1.75757576,\n",
       "        1.82828283,  1.8989899 ,  1.96969697,  2.04040404,  2.11111111,\n",
       "        2.18181818,  2.25252525,  2.32323232,  2.39393939,  2.46464646,\n",
       "        2.53535354,  2.60606061,  2.67676768,  2.74747475,  2.81818182,\n",
       "        2.88888889,  2.95959596,  3.03030303,  3.1010101 ,  3.17171717,\n",
       "        3.24242424,  3.31313131,  3.38383838,  3.45454545,  3.52525253,\n",
       "        3.5959596 ,  3.66666667,  3.73737374,  3.80808081,  3.87878788,\n",
       "        3.94949495,  4.02020202,  4.09090909,  4.16161616,  4.23232323,\n",
       "        4.3030303 ,  4.37373737,  4.44444444,  4.51515152,  4.58585859,\n",
       "        4.65656566,  4.72727273,  4.7979798 ,  4.86868687,  4.93939394,\n",
       "        5.01010101,  5.08080808,  5.15151515,  5.22222222,  5.29292929,\n",
       "        5.36363636,  5.43434343,  5.50505051,  5.57575758,  5.64646465,\n",
       "        5.71717172,  5.78787879,  5.85858586,  5.92929293,  6.        ])"
      ]
     },
     "execution_count": 13,
     "metadata": {},
     "output_type": "execute_result"
    }
   ],
   "source": [
    "x1 = np.linspace(-1,6,100)\n",
    "x1"
   ]
  },
  {
   "cell_type": "code",
   "execution_count": 15,
   "metadata": {},
   "outputs": [
    {
     "data": {
      "image/png": "[encoded data removed]",
      "text/plain": [
       "<Figure size 432x288 with 1 Axes>"
      ]
     },
     "metadata": {
      "needs_background": "light"
     },
     "output_type": "display_data"
    }
   ],
   "source": [
    "plt.plot(x1,f(x1))\n",
    "plt.plot(2,2,'go',ms=10) # green dot on (2,2), supposed solution of optimization (minimize)\n",
    "plt.ylim(0,10)\n",
    "plt.grid(True)\n",
    "plt.show()"
   ]
  }
 ],
 "metadata": {
  "kernelspec": {
   "display_name": "Python 3",
   "language": "python",
   "name": "python3"
  },
  "language_info": {
   "codemirror_mode": {
    "name": "ipython",
    "version": 3
   },
   "file_extension": ".py",
   "mimetype": "text/x-python",
   "name": "python",
   "nbconvert_exporter": "python",
   "pygments_lexer": "ipython3",
   "version": "3.7.1"
  }
 },
 "nbformat": 4,
 "nbformat_minor": 2
}
